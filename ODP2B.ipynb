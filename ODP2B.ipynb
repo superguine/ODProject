{
  "nbformat": 4,
  "nbformat_minor": 0,
  "metadata": {
    "colab": {
      "provenance": [],
      "gpuType": "T4",
      "include_colab_link": true
    },
    "kernelspec": {
      "name": "python3",
      "display_name": "Python 3"
    },
    "language_info": {
      "name": "python"
    },
    "accelerator": "GPU"
  },
  "cells": [
    {
      "cell_type": "markdown",
      "metadata": {
        "id": "view-in-github",
        "colab_type": "text"
      },
      "source": [
        "<a href=\"https://colab.research.google.com/github/superguine/ODProject/blob/main/ODP2B.ipynb\" target=\"_parent\"><img src=\"https://colab.research.google.com/assets/colab-badge.svg\" alt=\"Open In Colab\"/></a>"
      ]
    },
    {
      "cell_type": "code",
      "source": [
        "!pip install tensorflow==2.17"
      ],
      "metadata": {
        "id": "yMOjdBJBSSAt",
        "collapsed": true
      },
      "execution_count": null,
      "outputs": []
    },
    {
      "cell_type": "code",
      "execution_count": null,
      "metadata": {
        "id": "y5hRS0_kRvPU",
        "collapsed": true
      },
      "outputs": [],
      "source": [
        "import tensorflow as tf\n",
        "print(tf.__version__)"
      ]
    },
    {
      "cell_type": "code",
      "source": [
        "!git clone https://github.com/tensorflow/models.git"
      ],
      "metadata": {
        "id": "DAAcz6XpTfLD",
        "collapsed": true
      },
      "execution_count": null,
      "outputs": []
    },
    {
      "cell_type": "code",
      "source": [
        "pwd"
      ],
      "metadata": {
        "id": "KofCaUikXed9"
      },
      "execution_count": null,
      "outputs": []
    },
    {
      "cell_type": "code",
      "source": [
        "%cd\n",
        "%cd /content\n",
        "%cd models/research\n",
        "!protoc object_detection/protos/*.proto --python_out=."
      ],
      "metadata": {
        "id": "hhldsguMYVMA"
      },
      "execution_count": null,
      "outputs": []
    },
    {
      "cell_type": "code",
      "source": [
        "!git clone https://github.com/cocodataset/cocoapi.git"
      ],
      "metadata": {
        "id": "uuYOtEkhZ_r-"
      },
      "execution_count": null,
      "outputs": []
    },
    {
      "cell_type": "code",
      "source": [
        "%cd cocoapi/PythonAPI"
      ],
      "metadata": {
        "id": "9MkZBIf5a5bF"
      },
      "execution_count": null,
      "outputs": []
    },
    {
      "cell_type": "code",
      "source": [
        "!make"
      ],
      "metadata": {
        "id": "M5pSEjVqbIcc"
      },
      "execution_count": null,
      "outputs": []
    },
    {
      "cell_type": "code",
      "source": [
        "!cp -r pycocotools /content/models/research"
      ],
      "metadata": {
        "id": "_N_0FvHpbKPc"
      },
      "execution_count": null,
      "outputs": []
    },
    {
      "cell_type": "code",
      "source": [
        "%cd ../.."
      ],
      "metadata": {
        "id": "a83hmVDeuPB5"
      },
      "execution_count": null,
      "outputs": []
    },
    {
      "cell_type": "code",
      "source": [
        "!cp object_detection/packages/tf2/setup.py ."
      ],
      "metadata": {
        "id": "SLaNlBKNuatC"
      },
      "execution_count": null,
      "outputs": []
    },
    {
      "cell_type": "code",
      "source": [
        "!python -m pip install ."
      ],
      "metadata": {
        "collapsed": true,
        "id": "seXISmvuumy8"
      },
      "execution_count": null,
      "outputs": []
    },
    {
      "cell_type": "code",
      "source": [
        "%pip install tensorrt"
      ],
      "metadata": {
        "id": "DR4Qt8h5wUuN"
      },
      "execution_count": null,
      "outputs": []
    },
    {
      "cell_type": "code",
      "source": [
        "'''\n",
        "import tensorflow as tf\n",
        "\n",
        "# Custom class that replaces SyncBatchNormalization with BatchNormalization\n",
        "class FreezableSyncBatchNorm(tf.keras.layers.BatchNormalization):\n",
        "    def __init__(self, **kwargs):\n",
        "        super(FreezableSyncBatchNorm, self).__init__(**kwargs)\n",
        "\n",
        "    # Example of overriding methods if necessary\n",
        "    def call(self, inputs, training=None):\n",
        "        return super().call(inputs, training=training)\n",
        "\n",
        "# Example of how to use this class in a model\n",
        "def create_model(input_shape=(224, 224, 3)):\n",
        "    inputs = tf.keras.Input(shape=input_shape)\n",
        "    x = FreezableSyncBatchNorm()(inputs)\n",
        "    outputs = tf.keras.layers.Dense(10, activation='softmax')(x)\n",
        "    model = tf.keras.Model(inputs=inputs, outputs=outputs)\n",
        "    return model\n",
        "\n",
        "# Create and compile the model\n",
        "model = create_model()\n",
        "model.compile(optimizer='adam', loss='categorical_crossentropy', metrics=['accuracy'])\n",
        "\n",
        "# Print the model summary\n",
        "model.summary()\n"
      ],
      "metadata": {
        "id": "IvbE3jX_PFdE"
      },
      "execution_count": null,
      "outputs": []
    },
    {
      "cell_type": "code",
      "source": [
        "'''\n",
        "import tensorflow as tf\n",
        "\n",
        "# Custom class replacing SyncBatchNormalization with BatchNormalization\n",
        "class FreezableSyncBatchNorm(tf.keras.layers.BatchNormalization):\n",
        "    def __init__(self, **kwargs):\n",
        "        super(FreezableSyncBatchNorm, self).__init__(**kwargs)\n",
        "\n",
        "    def call(self, inputs, training=None):\n",
        "        # Customize the behavior during training or inference\n",
        "        return super().call(inputs, training=training)\n",
        "\n",
        "# Example usage of the FreezableSyncBatchNorm class in a model\n",
        "def create_example_model(input_shape=(224, 224, 3)):\n",
        "    inputs = tf.keras.Input(shape=input_shape)\n",
        "    x = FreezableSyncBatchNorm()(inputs)\n",
        "    x = tf.keras.layers.Conv2D(32, (3, 3), activation='relu')(x)\n",
        "    outputs = tf.keras.layers.Dense(10, activation='softmax')(x)\n",
        "    model = tf.keras.Model(inputs=inputs, outputs=outputs)\n",
        "    return model\n",
        "\n",
        "# Create and compile the model\n",
        "model = create_example_model()\n",
        "model.compile(optimizer='adam', loss='categorical_crossentropy', metrics=['accuracy'])\n",
        "\n",
        "# Print the model summary to verify\n",
        "model.summary()\n"
      ],
      "metadata": {
        "id": "ikAQhrv4Ph40"
      },
      "execution_count": null,
      "outputs": []
    },
    {
      "cell_type": "code",
      "source": [
        "import re\n",
        "\n",
        "def update_mobilenetv2(file_path):\n",
        "    \"\"\"\n",
        "    This function reads the file, removes the 'layers' argument from MobileNetV2 calls,\n",
        "    and ensures proper input tensor definition.\n",
        "    \"\"\"\n",
        "    with open(file_path, 'r') as file:\n",
        "        code = file.read()\n",
        "\n",
        "    # Remove the 'layers' argument from MobileNetV2\n",
        "    code = re.sub(r'MobileNetV2\\(([^)]*)layers\\s*=\\s*[^,]*,', r'MobileNetV2(\\1', code)\n",
        "\n",
        "    # Ensure that input tensor is properly defined as KerasTensor\n",
        "    code = re.sub(r'inputs\\s*=\\s*tf\\.keras\\.Input\\(([^)]*)\\)', r'inputs = tf.keras.Input(shape=\\1)', code)\n",
        "\n",
        "    # Optionally, check for other common issues:\n",
        "    # You can add more regex patterns to catch other known issues.\n",
        "\n",
        "    # Write the modified code back to the file\n",
        "    with open(file_path, 'w') as file:\n",
        "        file.write(code)\n",
        "\n",
        "    print(f\"Updated the file: {file_path}\")\n",
        "\n",
        "# Example usage:\n",
        "update_mobilenetv2('/usr/local/lib/python3.10/dist-packages/object_detection/models/keras_models/mobilenet_v2.py')\n"
      ],
      "metadata": {
        "id": "TKrqAXv1_TxJ"
      },
      "execution_count": null,
      "outputs": []
    },
    {
      "cell_type": "code",
      "source": [
        "# This script replaces lines of a file\n",
        "import os\n",
        "def replace_line_in_file(file_path, old_line_content, new_line_content):\n",
        "    # Read the file content\n",
        "    with open(file_path, 'r') as file:\n",
        "        lines = file.readlines()\n",
        "\n",
        "    # Replace the specific line\n",
        "    with open(file_path, 'w') as file:\n",
        "        for line in lines:\n",
        "            if old_line_content in line:\n",
        "                line = new_line_content + '\\n'\n",
        "            file.write(line)\n",
        "\n",
        "# Example usage\n",
        "file_path =  '/usr/local/lib/python3.10/dist-packages/object_detection/core/freezable_sync_batch_norm.py' #'/path/to/your/file.py'  # Update with the path to your file\n",
        "old_line_content = 'class FreezableSyncBatchNorm(tf.keras.layers.experimental.SyncBatchNormalization'\n",
        "new_line_content = 'class FreezableSyncBatchNorm(tf.keras.layers.BatchNormalization'\n",
        "\n",
        "replace_line_in_file(file_path, old_line_content, new_line_content)\n",
        "\n",
        "print(f\"Replaced '{old_line_content}' with '{new_line_content}' in {file_path}\")\n"
      ],
      "metadata": {
        "id": "MOqK11YfQ2FN"
      },
      "execution_count": null,
      "outputs": []
    },
    {
      "cell_type": "code",
      "source": [
        "# This script replaces lines of a file\n",
        "import os\n",
        "def replace_line_in_file(file_path, old_line_content, new_line_content):\n",
        "    # Read the file content\n",
        "    with open(file_path, 'r') as file:\n",
        "        lines = file.readlines()\n",
        "\n",
        "    # Replace the specific line\n",
        "    with open(file_path, 'w') as file:\n",
        "        for line in lines:\n",
        "            if old_line_content in line:\n",
        "                line = new_line_content + '\\n'\n",
        "            file.write(line)\n",
        "\n",
        "# Example usage\n",
        "file_path =  '/usr/local/lib/python3.10/dist-packages/object_detection/models/keras_models/hourglass_network.py' #'/path/to/your/file.py'  # Update with the path to your file\n",
        "old_line_content = '    return tf.keras.layers.experimental.SyncBatchNormalization('\n",
        "new_line_content = '    return tf.keras.layers.BatchNormalization('\n",
        "\n",
        "replace_line_in_file(file_path, old_line_content, new_line_content)\n",
        "\n",
        "print(f\"Replaced '{old_line_content}' with '{new_line_content}' in {file_path}\")\n"
      ],
      "metadata": {
        "id": "wk25SwuXSuVu"
      },
      "execution_count": null,
      "outputs": []
    },
    {
      "cell_type": "code",
      "source": [
        "import re\n",
        "\n",
        "def update_mobilenet_v2_file(file_path):\n",
        "    with open(file_path, 'r') as file:\n",
        "        content = file.read()\n",
        "\n",
        "    # Use regex to remove the unsupported 'layers' argument\n",
        "    updated_content = re.sub(\n",
        "        r'tf.keras.applications.MobileNetV2\\((.*?)(layers=.*?,|)(.*?)\\)',\n",
        "        r'tf.keras.applications.MobileNetV2(\\1\\3)',\n",
        "        content\n",
        "    )\n",
        "\n",
        "    with open(file_path, 'w') as file:\n",
        "        file.write(updated_content)\n",
        "\n",
        "# Update the path to your file\n",
        "file_path = '/usr/local/lib/python3.10/dist-packages/object_detection/models/keras_models/mobilenet_v2.py'\n",
        "update_mobilenet_v2_file(file_path)\n",
        "\n",
        "print(f\"Updated {file_path} to remove unsupported 'layers' argument.\")\n"
      ],
      "metadata": {
        "id": "oSuxWqTGWLsC"
      },
      "execution_count": null,
      "outputs": []
    },
    {
      "cell_type": "code",
      "source": [
        "!python object_detection/builders/model_builder_tf2_test.py"
      ],
      "metadata": {
        "id": "H3s3LcDIvz87"
      },
      "execution_count": null,
      "outputs": []
    },
    {
      "cell_type": "code",
      "source": [
        "!cat /usr/local/lib/python3.10/dist-packages/object_detection/core/freezable_sync_batch_norm.py\n"
      ],
      "metadata": {
        "id": "RgpcHqcQ1PPW"
      },
      "execution_count": null,
      "outputs": []
    }
  ]
}